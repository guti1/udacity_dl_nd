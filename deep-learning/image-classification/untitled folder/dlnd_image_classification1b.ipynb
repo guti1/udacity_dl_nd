{
 "cells": [
  {
   "cell_type": "markdown",
   "metadata": {
    "collapsed": true
   },
   "source": [
    "# Image Classification\n",
    "In this project, you'll classify images from the [CIFAR-10 dataset](https://www.cs.toronto.edu/~kriz/cifar.html).  The dataset consists of airplanes, dogs, cats, and other objects. You'll preprocess the images, then train a convolutional neural network on all the samples. The images need to be normalized and the labels need to be one-hot encoded.  You'll get to apply what you learned and build a convolutional, max pooling, dropout, and fully connected layers.  At the end, you'll get to see your neural network's predictions on the sample images.\n",
    "## Get the Data\n",
    "Run the following cell to download the [CIFAR-10 dataset for python](https://www.cs.toronto.edu/~kriz/cifar-10-python.tar.gz)."
   ]
  },
  {
   "cell_type": "code",
   "execution_count": 1,
   "metadata": {},
   "outputs": [
    {
     "name": "stdout",
     "output_type": "stream",
     "text": [
      "All files found!\n"
     ]
    }
   ],
   "source": [
    "\"\"\"\n",
    "DON'T MODIFY ANYTHING IN THIS CELL THAT IS BELOW THIS LINE\n",
    "\"\"\"\n",
    "from urllib.request import urlretrieve\n",
    "from os.path import isfile, isdir\n",
    "from tqdm import tqdm\n",
    "import problem_unittests as tests\n",
    "import tarfile\n",
    "\n",
    "cifar10_dataset_folder_path = 'cifar-10-batches-py'\n",
    "\n",
    "# Use Floyd's cifar-10 dataset if present\n",
    "floyd_cifar10_location = '/input/cifar-10/python.tar.gz'\n",
    "if isfile(floyd_cifar10_location):\n",
    "    tar_gz_path = floyd_cifar10_location\n",
    "else:\n",
    "    tar_gz_path = 'cifar-10-python.tar.gz'\n",
    "\n",
    "class DLProgress(tqdm):\n",
    "    last_block = 0\n",
    "\n",
    "    def hook(self, block_num=1, block_size=1, total_size=None):\n",
    "        self.total = total_size\n",
    "        self.update((block_num - self.last_block) * block_size)\n",
    "        self.last_block = block_num\n",
    "\n",
    "if not isfile(tar_gz_path):\n",
    "    with DLProgress(unit='B', unit_scale=True, miniters=1, desc='CIFAR-10 Dataset') as pbar:\n",
    "        urlretrieve(\n",
    "            'https://www.cs.toronto.edu/~kriz/cifar-10-python.tar.gz',\n",
    "            tar_gz_path,\n",
    "            pbar.hook)\n",
    "\n",
    "if not isdir(cifar10_dataset_folder_path):\n",
    "    with tarfile.open(tar_gz_path) as tar:\n",
    "        tar.extractall()\n",
    "        tar.close()\n",
    "\n",
    "\n",
    "tests.test_folder_path(cifar10_dataset_folder_path)"
   ]
  },
  {
   "cell_type": "markdown",
   "metadata": {},
   "source": [
    "## Explore the Data\n",
    "The dataset is broken into batches to prevent your machine from running out of memory.  The CIFAR-10 dataset consists of 5 batches, named `data_batch_1`, `data_batch_2`, etc.. Each batch contains the labels and images that are one of the following:\n",
    "* airplane\n",
    "* automobile\n",
    "* bird\n",
    "* cat\n",
    "* deer\n",
    "* dog\n",
    "* frog\n",
    "* horse\n",
    "* ship\n",
    "* truck\n",
    "\n",
    "Understanding a dataset is part of making predictions on the data.  Play around with the code cell below by changing the `batch_id` and `sample_id`. The `batch_id` is the id for a batch (1-5). The `sample_id` is the id for a image and label pair in the batch.\n",
    "\n",
    "Ask yourself \"What are all possible labels?\", \"What is the range of values for the image data?\", \"Are the labels in order or random?\".  Answers to questions like these will help you preprocess the data and end up with better predictions."
   ]
  },
  {
   "cell_type": "code",
   "execution_count": 2,
   "metadata": {},
   "outputs": [
    {
     "name": "stdout",
     "output_type": "stream",
     "text": [
      "\n",
      "Stats of batch 1:\n",
      "Samples: 10000\n",
      "Label Counts: {0: 1005, 1: 974, 2: 1032, 3: 1016, 4: 999, 5: 937, 6: 1030, 7: 1001, 8: 1025, 9: 981}\n",
      "First 20 Labels: [6, 9, 9, 4, 1, 1, 2, 7, 8, 3, 4, 7, 7, 2, 9, 9, 9, 3, 2, 6]\n",
      "\n",
      "Example of Image 5:\n",
      "Image - Min Value: 0 Max Value: 252\n",
      "Image - Shape: (32, 32, 3)\n",
      "Label - Label Id: 1 Name: automobile\n"
     ]
    },
    {
     "data": {
      "image/png": "[encoded data removed]",
      "text/plain": [
       "<matplotlib.figure.Figure at 0x7f0f5ec3fa58>"
      ]
     },
     "metadata": {
      "image/png": {
       "height": 250,
       "width": 253
      }
     },
     "output_type": "display_data"
    }
   ],
   "source": [
    "%matplotlib inline\n",
    "%config InlineBackend.figure_format = 'retina'\n",
    "\n",
    "import helper\n",
    "import numpy as np\n",
    "\n",
    "# Explore the dataset\n",
    "batch_id = 1\n",
    "sample_id = 5\n",
    "helper.display_stats(cifar10_dataset_folder_path, batch_id, sample_id)"
   ]
  },
  {
   "cell_type": "markdown",
   "metadata": {},
   "source": [
    "## Implement Preprocess Functions\n",
    "### Normalize\n",
    "In the cell below, implement the `normalize` function to take in image data, `x`, and return it as a normalized Numpy array. The values should be in the range of 0 to 1, inclusive.  The return object should be the same shape as `x`."
   ]
  },
  {
   "cell_type": "code",
   "execution_count": 3,
   "metadata": {},
   "outputs": [
    {
     "name": "stdout",
     "output_type": "stream",
     "text": [
      "Tests Passed\n"
     ]
    }
   ],
   "source": [
    "def normalize(x):\n",
    "    \"\"\"\n",
    "    Normalize a list of sample image data in the range of 0 to 1\n",
    "    : x: List of image data.  The image shape is (32, 32, 3)\n",
    "    : return: Numpy array of normalize data\n",
    "    \"\"\"\n",
    "    # TODO: Implement Function\n",
    "    mind = np.min(x)\n",
    "    maxd = np.max(x)\n",
    "    norm = (x-mind)/(maxd-mind)\n",
    "    return norm\n",
    "\n",
    "\n",
    "\"\"\"\n",
    "DON'T MODIFY ANYTHING IN THIS CELL THAT IS BELOW THIS LINE\n",
    "\"\"\"\n",
    "tests.test_normalize(normalize)"
   ]
  },
  {
   "cell_type": "markdown",
   "metadata": {},
   "source": [
    "### One-hot encode\n",
    "Just like the previous code cell, you'll be implementing a function for preprocessing.  This time, you'll implement the `one_hot_encode` function. The input, `x`, are a list of labels.  Implement the function to return the list of labels as One-Hot encoded Numpy array.  The possible values for labels are 0 to 9. The one-hot encoding function should return the same encoding for each value between each call to `one_hot_encode`.  Make sure to save the map of encodings outside the function.\n",
    "\n",
    "Hint: Don't reinvent the wheel."
   ]
  },
  {
   "cell_type": "code",
   "execution_count": 4,
   "metadata": {},
   "outputs": [
    {
     "name": "stdout",
     "output_type": "stream",
     "text": [
      "Tests Passed\n"
     ]
    }
   ],
   "source": [
    "def one_hot_encode(x):\n",
    "    \"\"\"\n",
    "    One hot encode a list of sample labels. Return a one-hot encoded vector for each label.\n",
    "    : x: List of sample Labels\n",
    "    : return: Numpy array of one-hot encoded labels\n",
    "    \"\"\"\n",
    "    # TODO: Implement Function\n",
    "    return np.eye(10)[x]\n",
    "\n",
    "\n",
    "\"\"\"\n",
    "DON'T MODIFY ANYTHING IN THIS CELL THAT IS BELOW THIS LINE\n",
    "\"\"\"\n",
    "tests.test_one_hot_encode(one_hot_encode)"
   ]
  },
  {
   "cell_type": "markdown",
   "metadata": {},
   "source": [
    "### Randomize Data\n",
    "As you saw from exploring the data above, the order of the samples are randomized.  It doesn't hurt to randomize it again, but you don't need to for this dataset."
   ]
  },
  {
   "cell_type": "markdown",
   "metadata": {},
   "source": [
    "## Preprocess all the data and save it\n",
    "Running the code cell below will preprocess all the CIFAR-10 data and save it to file. The code below also uses 10% of the training data for validation."
   ]
  },
  {
   "cell_type": "code",
   "execution_count": 5,
   "metadata": {
    "collapsed": true
   },
   "outputs": [],
   "source": [
    "\"\"\"\n",
    "DON'T MODIFY ANYTHING IN THIS CELL\n",
    "\"\"\"\n",
    "# Preprocess Training, Validation, and Testing Data\n",
    "helper.preprocess_and_save_data(cifar10_dataset_folder_path, normalize, one_hot_encode)"
   ]
  },
  {
   "cell_type": "markdown",
   "metadata": {},
   "source": [
    "# Check Point\n",
    "This is your first checkpoint.  If you ever decide to come back to this notebook or have to restart the notebook, you can start from here.  The preprocessed data has been saved to disk."
   ]
  },
  {
   "cell_type": "code",
   "execution_count": 6,
   "metadata": {
    "collapsed": true
   },
   "outputs": [],
   "source": [
    "\"\"\"\n",
    "DON'T MODIFY ANYTHING IN THIS CELL\n",
    "\"\"\"\n",
    "import pickle\n",
    "import problem_unittests as tests\n",
    "import helper\n",
    "\n",
    "# Load the Preprocessed Validation data\n",
    "valid_features, valid_labels = pickle.load(open('preprocess_validation.p', mode='rb'))"
   ]
  },
  {
   "cell_type": "markdown",
   "metadata": {},
   "source": [
    "## Build the network\n",
    "For the neural network, you'll build each layer into a function.  Most of the code you've seen has been outside of functions. To test your code more thoroughly, we require that you put each layer in a function.  This allows us to give you better feedback and test for simple mistakes using our unittests before you submit your project.\n",
    "\n",
    ">**Note:** If you're finding it hard to dedicate enough time for this course each week, we've provided a small shortcut to this part of the project. In the next couple of problems, you'll have the option to use classes from the [TensorFlow Layers](https://www.tensorflow.org/api_docs/python/tf/layers) or [TensorFlow Layers (contrib)](https://www.tensorflow.org/api_guides/python/contrib.layers) packages to build each layer, except the layers you build in the \"Convolutional and Max Pooling Layer\" section.  TF Layers is similar to Keras's and TFLearn's abstraction to layers, so it's easy to pickup.\n",
    "\n",
    ">However, if you would like to get the most out of this course, try to solve all the problems _without_ using anything from the TF Layers packages. You **can** still use classes from other packages that happen to have the same name as ones you find in TF Layers! For example, instead of using the TF Layers version of the `conv2d` class, [tf.layers.conv2d](https://www.tensorflow.org/api_docs/python/tf/layers/conv2d), you would want to use the TF Neural Network version of `conv2d`, [tf.nn.conv2d](https://www.tensorflow.org/api_docs/python/tf/nn/conv2d). \n",
    "\n",
    "Let's begin!\n",
    "\n",
    "### Input\n",
    "The neural network needs to read the image data, one-hot encoded labels, and dropout keep probability. Implement the following functions\n",
    "* Implement `neural_net_image_input`\n",
    " * Return a [TF Placeholder](https://www.tensorflow.org/api_docs/python/tf/placeholder)\n",
    " * Set the shape using `image_shape` with batch size set to `None`.\n",
    " * Name the TensorFlow placeholder \"x\" using the TensorFlow `name` parameter in the [TF Placeholder](https://www.tensorflow.org/api_docs/python/tf/placeholder).\n",
    "* Implement `neural_net_label_input`\n",
    " * Return a [TF Placeholder](https://www.tensorflow.org/api_docs/python/tf/placeholder)\n",
    " * Set the shape using `n_classes` with batch size set to `None`.\n",
    " * Name the TensorFlow placeholder \"y\" using the TensorFlow `name` parameter in the [TF Placeholder](https://www.tensorflow.org/api_docs/python/tf/placeholder).\n",
    "* Implement `neural_net_keep_prob_input`\n",
    " * Return a [TF Placeholder](https://www.tensorflow.org/api_docs/python/tf/placeholder) for dropout keep probability.\n",
    " * Name the TensorFlow placeholder \"keep_prob\" using the TensorFlow `name` parameter in the [TF Placeholder](https://www.tensorflow.org/api_docs/python/tf/placeholder).\n",
    "\n",
    "These names will be used at the end of the project to load your saved model.\n",
    "\n",
    "Note: `None` for shapes in TensorFlow allow for a dynamic size."
   ]
  },
  {
   "cell_type": "code",
   "execution_count": 7,
   "metadata": {},
   "outputs": [
    {
     "name": "stdout",
     "output_type": "stream",
     "text": [
      "Image Input Tests Passed.\n",
      "Label Input Tests Passed.\n",
      "Keep Prob Tests Passed.\n"
     ]
    }
   ],
   "source": [
    "import tensorflow as tf\n",
    "\n",
    "def neural_net_image_input(image_shape):\n",
    "    \"\"\"\n",
    "    Return a Tensor for a batch of image input\n",
    "    : image_shape: Shape of the images\n",
    "    : return: Tensor for image input.\n",
    "    \"\"\"\n",
    "    # TODO: Implement Function\n",
    "    return tf.placeholder(tf.float32, [None, *image_shape], name='x')\n",
    "\n",
    "\n",
    "def neural_net_label_input(n_classes):\n",
    "    \"\"\"\n",
    "    Return a Tensor for a batch of label input\n",
    "    : n_classes: Number of classes\n",
    "    : return: Tensor for label input.\n",
    "    \"\"\"\n",
    "    # TODO: Implement Function\n",
    "    return tf.placeholder(tf.float32, [None, n_classes], name='y')\n",
    "\n",
    "\n",
    "def neural_net_keep_prob_input():\n",
    "    \"\"\"\n",
    "    Return a Tensor for keep probability\n",
    "    : return: Tensor for keep probability.\n",
    "    \"\"\"\n",
    "    # TODO: Implement Function\n",
    "    return tf.placeholder(tf.float32, name='keep_prob')\n",
    "\n",
    "\n",
    "\"\"\"\n",
    "DON'T MODIFY ANYTHING IN THIS CELL THAT IS BELOW THIS LINE\n",
    "\"\"\"\n",
    "tf.reset_default_graph()\n",
    "tests.test_nn_image_inputs(neural_net_image_input)\n",
    "tests.test_nn_label_inputs(neural_net_label_input)\n",
    "tests.test_nn_keep_prob_inputs(neural_net_keep_prob_input)"
   ]
  },
  {
   "cell_type": "markdown",
   "metadata": {},
   "source": [
    "### Convolution and Max Pooling Layer\n",
    "Convolution layers have a lot of success with images. For this code cell, you should implement the function `conv2d_maxpool` to apply convolution then max pooling:\n",
    "* Create the weight and bias using `conv_ksize`, `conv_num_outputs` and the shape of `x_tensor`.\n",
    "* Apply a convolution to `x_tensor` using weight and `conv_strides`.\n",
    " * We recommend you use same padding, but you're welcome to use any padding.\n",
    "* Add bias\n",
    "* Add a nonlinear activation to the convolution.\n",
    "* Apply Max Pooling using `pool_ksize` and `pool_strides`.\n",
    " * We recommend you use same padding, but you're welcome to use any padding.\n",
    "\n",
    "**Note:** You **can't** use [TensorFlow Layers](https://www.tensorflow.org/api_docs/python/tf/layers) or [TensorFlow Layers (contrib)](https://www.tensorflow.org/api_guides/python/contrib.layers) for **this** layer, but you can still use TensorFlow's [Neural Network](https://www.tensorflow.org/api_docs/python/tf/nn) package. You may still use the shortcut option for all the **other** layers."
   ]
  },
  {
   "cell_type": "code",
   "execution_count": 19,
   "metadata": {},
   "outputs": [
    {
     "name": "stdout",
     "output_type": "stream",
     "text": [
      "Tests Passed\n"
     ]
    }
   ],
   "source": [
    "def conv2d_maxpool(x_tensor, conv_num_outputs, conv_ksize, conv_strides, pool_ksize, pool_strides):\n",
    "    \"\"\"\n",
    "    Apply convolution then max pooling to x_tensor\n",
    "    :param x_tensor: TensorFlow Tensor\n",
    "    :param conv_num_outputs: Number of outputs for the convolutional layer\n",
    "    :param conv_ksize: kernal size 2-D Tuple for the convolutional layer\n",
    "    :param conv_strides: Stride 2-D Tuple for convolution\n",
    "    :param pool_ksize: kernal size 2-D Tuple for pool\n",
    "    :param pool_strides: Stride 2-D Tuple for pool\n",
    "    : return: A tensor that represents convolution and max pooling of x_tensor\n",
    "    \"\"\"\n",
    "    # TODO: Implement Function\n",
    "    bias = tf.Variable(tf.zeros(conv_num_outputs))\n",
    "    input_depth = x_tensor.shape[-1].value\n",
    "    weights = tf.Variable(tf.random_normal(shape=[conv_ksize[0], conv_ksize[1],input_depth, conv_num_outputs], \\\n",
    "                                              stddev=np.sqrt(1/x_tensor.shape[-1].value))) \n",
    "    \n",
    "    conv_layer = tf.nn.conv2d(x_tensor, weights, strides = [1, conv_strides[0], conv_strides[1] ,1], padding = 'SAME')\n",
    "    conv_layer = tf.nn.bias_add(conv_layer, bias)\n",
    "    conv_layer = tf.nn.relu(conv_layer)\n",
    "    conv_layer = tf.nn.max_pool(conv_layer, ksize=[1, pool_ksize[0], pool_ksize[1], 1], strides=[1, pool_strides[0], pool_strides[1], 1], padding='SAME')\n",
    "    \n",
    "    return conv_layer\n",
    "\n",
    "\n",
    "\"\"\"\n",
    "DON'T MODIFY ANYTHING IN THIS CELL THAT IS BELOW THIS LINE\n",
    "\"\"\"\n",
    "tests.test_con_pool(conv2d_maxpool)"
   ]
  },
  {
   "cell_type": "markdown",
   "metadata": {},
   "source": [
    "### Flatten Layer\n",
    "Implement the `flatten` function to change the dimension of `x_tensor` from a 4-D tensor to a 2-D tensor.  The output should be the shape (*Batch Size*, *Flattened Image Size*). Shortcut option: you can use classes from the [TensorFlow Layers](https://www.tensorflow.org/api_docs/python/tf/layers) or [TensorFlow Layers (contrib)](https://www.tensorflow.org/api_guides/python/contrib.layers) packages for this layer. For more of a challenge, only use other TensorFlow packages."
   ]
  },
  {
   "cell_type": "code",
   "execution_count": 20,
   "metadata": {},
   "outputs": [
    {
     "name": "stdout",
     "output_type": "stream",
     "text": [
      "Tests Passed\n"
     ]
    }
   ],
   "source": [
    "def flatten(x_tensor):\n",
    "    \"\"\"\n",
    "    Flatten x_tensor to (Batch Size, Flattened Image Size)\n",
    "    : x_tensor: A tensor of size (Batch Size, ...), where ... are the image dimensions.\n",
    "    : return: A tensor of size (Batch Size, Flattened Image Size).\n",
    "    \"\"\"\n",
    "    # TODO: Implement Function\n",
    "    shape = tf.reshape(x_tensor, [-1, x_tensor.get_shape()[1:4].num_elements()])\n",
    "    return shape\n",
    "\n",
    "\n",
    "\"\"\"\n",
    "DON'T MODIFY ANYTHING IN THIS CELL THAT IS BELOW THIS LINE\n",
    "\"\"\"\n",
    "tests.test_flatten(flatten)"
   ]
  },
  {
   "cell_type": "markdown",
   "metadata": {},
   "source": [
    "### Fully-Connected Layer\n",
    "Implement the `fully_conn` function to apply a fully connected layer to `x_tensor` with the shape (*Batch Size*, *num_outputs*). Shortcut option: you can use classes from the [TensorFlow Layers](https://www.tensorflow.org/api_docs/python/tf/layers) or [TensorFlow Layers (contrib)](https://www.tensorflow.org/api_guides/python/contrib.layers) packages for this layer. For more of a challenge, only use other TensorFlow packages."
   ]
  },
  {
   "cell_type": "code",
   "execution_count": 21,
   "metadata": {},
   "outputs": [
    {
     "name": "stdout",
     "output_type": "stream",
     "text": [
      "Tests Passed\n"
     ]
    }
   ],
   "source": [
    "def fully_conn(x_tensor, num_outputs):\n",
    "    \"\"\"\n",
    "    Apply a fully connected layer to x_tensor using weight and bias\n",
    "    : x_tensor: A 2-D tensor where the first dimension is batch size.\n",
    "    : num_outputs: The number of output that the new tensor should be.\n",
    "    : return: A 2-D tensor where the second dimension is num_outputs.\n",
    "    \"\"\"\n",
    "    # TODO: Implement Function\n",
    "    batch_size = x_tensor.shape[1].value\n",
    "    \n",
    "    bias = tf.Variable(tf.zeros(num_outputs))\n",
    "    weights = tf.Variable(tf.random_normal([batch_size, num_outputs], stddev=np.sqrt(1/x_tensor.shape[-1].value)))\n",
    "    \n",
    "    fully_conn_layer = tf.matmul(x_tensor, weights)\n",
    "    fully_conn_layer = tf.nn.bias_add(fully_conn_layer, bias)\n",
    "    fully_conn_layer = tf.nn.relu(fully_conn_layer)\n",
    "    \n",
    "    return fully_conn_layer\n",
    "\n",
    "\n",
    "\"\"\"\n",
    "DON'T MODIFY ANYTHING IN THIS CELL THAT IS BELOW THIS LINE\n",
    "\"\"\"\n",
    "tests.test_fully_conn(fully_conn)"
   ]
  },
  {
   "cell_type": "markdown",
   "metadata": {},
   "source": [
    "### Output Layer\n",
    "Implement the `output` function to apply a fully connected layer to `x_tensor` with the shape (*Batch Size*, *num_outputs*). Shortcut option: you can use classes from the [TensorFlow Layers](https://www.tensorflow.org/api_docs/python/tf/layers) or [TensorFlow Layers (contrib)](https://www.tensorflow.org/api_guides/python/contrib.layers) packages for this layer. For more of a challenge, only use other TensorFlow packages.\n",
    "\n",
    "**Note:** Activation, softmax, or cross entropy should **not** be applied to this."
   ]
  },
  {
   "cell_type": "code",
   "execution_count": 22,
   "metadata": {},
   "outputs": [
    {
     "name": "stdout",
     "output_type": "stream",
     "text": [
      "Tests Passed\n"
     ]
    }
   ],
   "source": [
    "def output(x_tensor, num_outputs):\n",
    "    \"\"\"\n",
    "    Apply a output layer to x_tensor using weight and bias\n",
    "    : x_tensor: A 2-D tensor where the first dimension is batch size.\n",
    "    : num_outputs: The number of output that the new tensor should be.\n",
    "    : return: A 2-D tensor where the second dimension is num_outputs.\n",
    "    \"\"\"\n",
    "    # TODO: Implement Function\n",
    "    batch_size = x_tensor.shape[1].value\n",
    "\n",
    "    bias = tf.Variable(tf.zeros(num_outputs))\n",
    "    weights = tf.Variable(tf.random_normal([batch_size, num_outputs], stddev=np.sqrt(1/x_tensor.shape[-1].value)))\n",
    "    \n",
    "    output_layer = tf.matmul(x_tensor, weights)\n",
    "    output_layer = tf.nn.bias_add(output_layer, bias)\n",
    "    \n",
    "    return output_layer\n",
    "\n",
    "\n",
    "\"\"\"\n",
    "DON'T MODIFY ANYTHING IN THIS CELL THAT IS BELOW THIS LINE\n",
    "\"\"\"\n",
    "tests.test_output(output)"
   ]
  },
  {
   "cell_type": "markdown",
   "metadata": {},
   "source": [
    "### Create Convolutional Model\n",
    "Implement the function `conv_net` to create a convolutional neural network model. The function takes in a batch of images, `x`, and outputs logits.  Use the layers you created above to create this model:\n",
    "\n",
    "* Apply 1, 2, or 3 Convolution and Max Pool layers\n",
    "* Apply a Flatten Layer\n",
    "* Apply 1, 2, or 3 Fully Connected Layers\n",
    "* Apply an Output Layer\n",
    "* Return the output\n",
    "* Apply [TensorFlow's Dropout](https://www.tensorflow.org/api_docs/python/tf/nn/dropout) to one or more layers in the model using `keep_prob`. "
   ]
  },
  {
   "cell_type": "code",
   "execution_count": 23,
   "metadata": {},
   "outputs": [
    {
     "name": "stdout",
     "output_type": "stream",
     "text": [
      "Neural Network Built!\n"
     ]
    }
   ],
   "source": [
    "def conv_net(x, keep_prob):\n",
    "    \"\"\"\n",
    "    Create a convolutional neural network model\n",
    "    : x: Placeholder tensor that holds image data.\n",
    "    : keep_prob: Placeholder tensor that hold dropout keep probability.\n",
    "    : return: Tensor that represents logits\n",
    "    \"\"\"\n",
    "    # TODO: Apply 1, 2, or 3 Convolution and Max Pool layers\n",
    "    #    Play around with different number of outputs, kernel size and stride\n",
    "    # Function Definition from Above:\n",
    "    #    conv2d_maxpool(x_tensor, conv_num_outputs, conv_ksize, conv_strides, pool_ksize, pool_strides)\n",
    "       \n",
    "    \n",
    "    \n",
    "    conv_layer1 = conv2d_maxpool(x, 32, (8,8), (1,1), (2,2), (1,1))\n",
    "   # conv_layer1 = tf.nn.dropout(conv_layer1, keep_prob)\n",
    "    \n",
    "    conv_layer2 = conv2d_maxpool(conv_layer1, 64, (4,4), (1,1), (2,2), (1,1))\n",
    "   # conv_layer2 = tf.nn.dropout(conv_layer2, keep_prob)\n",
    "    \n",
    "    conv_layer3 = conv2d_maxpool(conv_layer2, 128, (2,2), (1,1), (2,2), (1,1))\n",
    "   # conv_layer3 = tf.nn.dropout(conv_layer3, keep_prob)\n",
    "    \n",
    "\n",
    "    # TODO: Apply a Flatten Layer\n",
    "    # Function Definition from Above:\n",
    "    #   flatten(x_tensor)\n",
    "    \n",
    "    flatten_layer1 = flatten(conv_layer3)\n",
    "\n",
    "    \n",
    "    # TODO: Apply 1, 2, or 3 Fully Connected Layers\n",
    "    #    Play around with different number of outputs\n",
    "    # Function Definition from Above:\n",
    "    #   fully_conn(x_tensor, num_outputs)\n",
    "    \n",
    "    fully_conn_layer1 = fully_conn(flatten_layer1, 256)\n",
    "    fully_conn_layer1 = tf.nn.dropout(fully_conn_layer1, keep_prob)\n",
    "    fully_conn_layer2 = fully_conn(fully_conn_layer1, 512)\n",
    "    fully_conn_layer2 = tf.nn.dropout(fully_conn_layer2, keep_prob)\n",
    "    \n",
    "    \n",
    "    \n",
    "    # TODO: Apply an Output Layer\n",
    "    #    Set this to the number of classes\n",
    "    # Function Definition from Above:\n",
    "    #   output(x_tensor, num_outputs)\n",
    "    \n",
    "    output_layer = output(fully_conn_layer2, 10)\n",
    "    output_layer = tf.nn.dropout(output_layer, keep_prob)\n",
    "    \n",
    "    # TODO: return output\n",
    "    return output_layer\n",
    "\n",
    "\n",
    "\"\"\"\n",
    "DON'T MODIFY ANYTHING IN THIS CELL THAT IS BELOW THIS LINE\n",
    "\"\"\"\n",
    "\n",
    "##############################\n",
    "## Build the Neural Network ##\n",
    "##############################\n",
    "\n",
    "# Remove previous weights, bias, inputs, etc..\n",
    "tf.reset_default_graph()\n",
    "\n",
    "# Inputs\n",
    "x = neural_net_image_input((32, 32, 3))\n",
    "y = neural_net_label_input(10)\n",
    "keep_prob = neural_net_keep_prob_input()\n",
    "\n",
    "# Model\n",
    "logits = conv_net(x, keep_prob)\n",
    "\n",
    "# Name logits Tensor, so that is can be loaded from disk after training\n",
    "logits = tf.identity(logits, name='logits')\n",
    "\n",
    "# Loss and Optimizer\n",
    "cost = tf.reduce_mean(tf.nn.softmax_cross_entropy_with_logits(logits=logits, labels=y))\n",
    "optimizer = tf.train.AdamOptimizer().minimize(cost)\n",
    "\n",
    "# Accuracy\n",
    "correct_pred = tf.equal(tf.argmax(logits, 1), tf.argmax(y, 1))\n",
    "accuracy = tf.reduce_mean(tf.cast(correct_pred, tf.float32), name='accuracy')\n",
    "\n",
    "tests.test_conv_net(conv_net)"
   ]
  },
  {
   "cell_type": "markdown",
   "metadata": {},
   "source": [
    "## Train the Neural Network\n",
    "### Single Optimization\n",
    "Implement the function `train_neural_network` to do a single optimization.  The optimization should use `optimizer` to optimize in `session` with a `feed_dict` of the following:\n",
    "* `x` for image input\n",
    "* `y` for labels\n",
    "* `keep_prob` for keep probability for dropout\n",
    "\n",
    "This function will be called for each batch, so `tf.global_variables_initializer()` has already been called.\n",
    "\n",
    "Note: Nothing needs to be returned. This function is only optimizing the neural network."
   ]
  },
  {
   "cell_type": "code",
   "execution_count": 24,
   "metadata": {},
   "outputs": [
    {
     "name": "stdout",
     "output_type": "stream",
     "text": [
      "Tests Passed\n"
     ]
    }
   ],
   "source": [
    "def train_neural_network(session, optimizer, keep_probability, feature_batch, label_batch):\n",
    "    \"\"\"\n",
    "    Optimize the session on a batch of images and labels\n",
    "    : session: Current TensorFlow session\n",
    "    : optimizer: TensorFlow optimizer function\n",
    "    : keep_probability: keep probability\n",
    "    : feature_batch: Batch of Numpy image data\n",
    "    : label_batch: Batch of Numpy label data\n",
    "    \"\"\"\n",
    "    # TODO: Implement Function\n",
    "    session.run(optimizer, feed_dict={x: feature_batch, y: label_batch, keep_prob: keep_probability})\n",
    "\n",
    "\n",
    "\n",
    "\n",
    "\"\"\"\n",
    "DON'T MODIFY ANYTHING IN THIS CELL THAT IS BELOW THIS LINE\n",
    "\"\"\"\n",
    "tests.test_train_nn(train_neural_network)"
   ]
  },
  {
   "cell_type": "markdown",
   "metadata": {},
   "source": [
    "### Show Stats\n",
    "Implement the function `print_stats` to print loss and validation accuracy.  Use the global variables `valid_features` and `valid_labels` to calculate validation accuracy.  Use a keep probability of `1.0` to calculate the loss and validation accuracy."
   ]
  },
  {
   "cell_type": "code",
   "execution_count": 25,
   "metadata": {
    "collapsed": true
   },
   "outputs": [],
   "source": [
    "def print_stats(session, feature_batch, label_batch, cost, accuracy):\n",
    "    \"\"\"\n",
    "    Print information about loss and validation accuracy\n",
    "    : session: Current TensorFlow session\n",
    "    : feature_batch: Batch of Numpy image data\n",
    "    : label_batch: Batch of Numpy label data\n",
    "    : cost: TensorFlow cost function\n",
    "    : accuracy: TensorFlow accuracy function\n",
    "    \"\"\"\n",
    "    # TODO: Implement Function\n",
    "        \n",
    "    loss = session.run(cost, feed_dict={x: feature_batch, y: label_batch, keep_prob: 1.0})\n",
    "    acc_train = session.run(accuracy, feed_dict={ x: feature_batch, y: label_batch, keep_prob: 1.0})\n",
    "    acc_valid = session.run(accuracy, feed_dict={x: valid_features, y: valid_labels, keep_prob: 1.0})\n",
    "    \n",
    "    print('Loss: {:.4f} , Training Acc: {:.4f}, Validation Acc: {:.4f}'\n",
    "          .format(loss, acc_train, acc_valid))\n",
    "    \n",
    "    "
   ]
  },
  {
   "cell_type": "markdown",
   "metadata": {},
   "source": [
    "### Hyperparameters\n",
    "Tune the following parameters:\n",
    "* Set `epochs` to the number of iterations until the network stops learning or start overfitting\n",
    "* Set `batch_size` to the highest number that your machine has memory for.  Most people set them to common sizes of memory:\n",
    " * 64\n",
    " * 128\n",
    " * 256\n",
    " * ...\n",
    "* Set `keep_probability` to the probability of keeping a node using dropout"
   ]
  },
  {
   "cell_type": "code",
   "execution_count": 30,
   "metadata": {
    "collapsed": true
   },
   "outputs": [],
   "source": [
    "# TODO: Tune Parameters\n",
    "epochs = 50\n",
    "batch_size = 64\n",
    "keep_probability = .8"
   ]
  },
  {
   "cell_type": "markdown",
   "metadata": {},
   "source": [
    "### Train on a Single CIFAR-10 Batch\n",
    "Instead of training the neural network on all the CIFAR-10 batches of data, let's use a single batch. This should save time while you iterate on the model to get a better accuracy.  Once the final validation accuracy is 50% or greater, run the model on all the data in the next section."
   ]
  },
  {
   "cell_type": "code",
   "execution_count": 31,
   "metadata": {},
   "outputs": [
    {
     "name": "stdout",
     "output_type": "stream",
     "text": [
      "Checking the Training on a Single Batch...\n",
      "Epoch  1, CIFAR-10 Batch 1:  Loss: 2.2147 , Training Acc: 0.1250, Validation Acc: 0.1916\n",
      "Epoch  2, CIFAR-10 Batch 1:  Loss: 2.0589 , Training Acc: 0.2250, Validation Acc: 0.2486\n",
      "Epoch  3, CIFAR-10 Batch 1:  Loss: 2.0218 , Training Acc: 0.2750, Validation Acc: 0.2742\n",
      "Epoch  4, CIFAR-10 Batch 1:  Loss: 1.9071 , Training Acc: 0.3750, Validation Acc: 0.3146\n",
      "Epoch  5, CIFAR-10 Batch 1:  Loss: 1.7800 , Training Acc: 0.3500, Validation Acc: 0.3382\n",
      "Epoch  6, CIFAR-10 Batch 1:  Loss: 1.6349 , Training Acc: 0.5000, Validation Acc: 0.3624\n",
      "Epoch  7, CIFAR-10 Batch 1:  Loss: 1.6352 , Training Acc: 0.5000, Validation Acc: 0.3710\n",
      "Epoch  8, CIFAR-10 Batch 1:  Loss: 1.4505 , Training Acc: 0.5500, Validation Acc: 0.3900\n",
      "Epoch  9, CIFAR-10 Batch 1:  Loss: 1.4404 , Training Acc: 0.5500, Validation Acc: 0.4076\n",
      "Epoch 10, CIFAR-10 Batch 1:  Loss: 1.4426 , Training Acc: 0.6000, Validation Acc: 0.4056\n",
      "Epoch 11, CIFAR-10 Batch 1:  Loss: 1.1866 , Training Acc: 0.6500, Validation Acc: 0.4092\n",
      "Epoch 12, CIFAR-10 Batch 1:  Loss: 1.0689 , Training Acc: 0.7250, Validation Acc: 0.4044\n",
      "Epoch 13, CIFAR-10 Batch 1:  Loss: 0.9789 , Training Acc: 0.7000, Validation Acc: 0.4284\n",
      "Epoch 14, CIFAR-10 Batch 1:  Loss: 0.9285 , Training Acc: 0.7500, Validation Acc: 0.4288\n",
      "Epoch 15, CIFAR-10 Batch 1:  Loss: 0.8391 , Training Acc: 0.7000, Validation Acc: 0.4248\n",
      "Epoch 16, CIFAR-10 Batch 1:  Loss: 0.7660 , Training Acc: 0.8250, Validation Acc: 0.4248\n",
      "Epoch 17, CIFAR-10 Batch 1:  Loss: 0.6848 , Training Acc: 0.7750, Validation Acc: 0.4236\n",
      "Epoch 18, CIFAR-10 Batch 1:  Loss: 0.6716 , Training Acc: 0.7750, Validation Acc: 0.4180\n",
      "Epoch 19, CIFAR-10 Batch 1:  Loss: 0.5299 , Training Acc: 0.8500, Validation Acc: 0.4548\n",
      "Epoch 20, CIFAR-10 Batch 1:  Loss: 0.4747 , Training Acc: 0.8250, Validation Acc: 0.4472\n",
      "Epoch 21, CIFAR-10 Batch 1:  Loss: 0.4858 , Training Acc: 0.8500, Validation Acc: 0.4302\n",
      "Epoch 22, CIFAR-10 Batch 1:  Loss: 0.4727 , Training Acc: 0.8250, Validation Acc: 0.4280\n",
      "Epoch 23, CIFAR-10 Batch 1:  Loss: 0.3204 , Training Acc: 0.9000, Validation Acc: 0.4232\n",
      "Epoch 24, CIFAR-10 Batch 1:  Loss: 0.3072 , Training Acc: 0.8750, Validation Acc: 0.4208\n",
      "Epoch 25, CIFAR-10 Batch 1:  Loss: 0.2300 , Training Acc: 0.9500, Validation Acc: 0.4416\n",
      "Epoch 26, CIFAR-10 Batch 1:  Loss: 0.2616 , Training Acc: 0.9000, Validation Acc: 0.4474\n",
      "Epoch 27, CIFAR-10 Batch 1:  Loss: 0.2464 , Training Acc: 0.9250, Validation Acc: 0.4434\n",
      "Epoch 28, CIFAR-10 Batch 1:  Loss: 0.1929 , Training Acc: 0.9500, Validation Acc: 0.4410\n",
      "Epoch 29, CIFAR-10 Batch 1:  Loss: 0.1678 , Training Acc: 0.9500, Validation Acc: 0.4288\n",
      "Epoch 30, CIFAR-10 Batch 1:  Loss: 0.1797 , Training Acc: 0.9250, Validation Acc: 0.4450\n",
      "Epoch 31, CIFAR-10 Batch 1:  Loss: 0.1915 , Training Acc: 0.9250, Validation Acc: 0.4484\n",
      "Epoch 32, CIFAR-10 Batch 1:  Loss: 0.1099 , Training Acc: 0.9750, Validation Acc: 0.4512\n",
      "Epoch 33, CIFAR-10 Batch 1:  Loss: 0.1301 , Training Acc: 0.9500, Validation Acc: 0.4426\n",
      "Epoch 34, CIFAR-10 Batch 1:  Loss: 0.0925 , Training Acc: 0.9750, Validation Acc: 0.4386\n",
      "Epoch 35, CIFAR-10 Batch 1:  Loss: 0.0831 , Training Acc: 0.9750, Validation Acc: 0.4458\n",
      "Epoch 36, CIFAR-10 Batch 1:  Loss: 0.0928 , Training Acc: 1.0000, Validation Acc: 0.4418\n",
      "Epoch 37, CIFAR-10 Batch 1:  Loss: 0.0863 , Training Acc: 0.9750, Validation Acc: 0.4472\n",
      "Epoch 38, CIFAR-10 Batch 1:  Loss: 0.0902 , Training Acc: 1.0000, Validation Acc: 0.4516\n",
      "Epoch 39, CIFAR-10 Batch 1:  Loss: 0.0897 , Training Acc: 0.9750, Validation Acc: 0.4390\n",
      "Epoch 40, CIFAR-10 Batch 1:  Loss: 0.0713 , Training Acc: 1.0000, Validation Acc: 0.4624\n",
      "Epoch 41, CIFAR-10 Batch 1:  Loss: 0.0728 , Training Acc: 1.0000, Validation Acc: 0.4584\n",
      "Epoch 42, CIFAR-10 Batch 1:  Loss: 0.0511 , Training Acc: 1.0000, Validation Acc: 0.4542\n",
      "Epoch 43, CIFAR-10 Batch 1:  Loss: 0.0881 , Training Acc: 0.9750, Validation Acc: 0.4456\n",
      "Epoch 44, CIFAR-10 Batch 1:  Loss: 0.0628 , Training Acc: 0.9750, Validation Acc: 0.4494\n",
      "Epoch 45, CIFAR-10 Batch 1:  Loss: 0.0581 , Training Acc: 1.0000, Validation Acc: 0.4598\n",
      "Epoch 46, CIFAR-10 Batch 1:  Loss: 0.0369 , Training Acc: 1.0000, Validation Acc: 0.4436\n",
      "Epoch 47, CIFAR-10 Batch 1:  Loss: 0.0525 , Training Acc: 0.9750, Validation Acc: 0.4520\n",
      "Epoch 48, CIFAR-10 Batch 1:  Loss: 0.0488 , Training Acc: 1.0000, Validation Acc: 0.4554\n",
      "Epoch 49, CIFAR-10 Batch 1:  Loss: 0.1010 , Training Acc: 0.9750, Validation Acc: 0.4500\n",
      "Epoch 50, CIFAR-10 Batch 1:  Loss: 0.0666 , Training Acc: 1.0000, Validation Acc: 0.4428\n"
     ]
    }
   ],
   "source": [
    "\"\"\"\n",
    "DON'T MODIFY ANYTHING IN THIS CELL\n",
    "\"\"\"\n",
    "print('Checking the Training on a Single Batch...')\n",
    "with tf.Session() as sess:\n",
    "    # Initializing the variables\n",
    "    sess.run(tf.global_variables_initializer())\n",
    "    \n",
    "    # Training cycle\n",
    "    for epoch in range(epochs):\n",
    "        batch_i = 1\n",
    "        for batch_features, batch_labels in helper.load_preprocess_training_batch(batch_i, batch_size):\n",
    "            train_neural_network(sess, optimizer, keep_probability, batch_features, batch_labels)\n",
    "        print('Epoch {:>2}, CIFAR-10 Batch {}:  '.format(epoch + 1, batch_i), end='')\n",
    "        print_stats(sess, batch_features, batch_labels, cost, accuracy)"
   ]
  },
  {
   "cell_type": "markdown",
   "metadata": {},
   "source": [
    "### Fully Train the Model\n",
    "Now that you got a good accuracy with a single CIFAR-10 batch, try it with all five batches."
   ]
  },
  {
   "cell_type": "code",
   "execution_count": 32,
   "metadata": {},
   "outputs": [
    {
     "name": "stdout",
     "output_type": "stream",
     "text": [
      "Training...\n",
      "Epoch  1, CIFAR-10 Batch 1:  Loss: 2.1700 , Training Acc: 0.2500, Validation Acc: 0.1922\n",
      "Epoch  1, CIFAR-10 Batch 2:  Loss: 2.0458 , Training Acc: 0.2500, Validation Acc: 0.2658\n",
      "Epoch  1, CIFAR-10 Batch 3:  Loss: 1.8596 , Training Acc: 0.3000, Validation Acc: 0.3002\n",
      "Epoch  1, CIFAR-10 Batch 4:  Loss: 1.8396 , Training Acc: 0.3500, Validation Acc: 0.3482\n",
      "Epoch  1, CIFAR-10 Batch 5:  Loss: 1.8151 , Training Acc: 0.3500, Validation Acc: 0.3518\n",
      "Epoch  2, CIFAR-10 Batch 1:  Loss: 1.9011 , Training Acc: 0.2500, Validation Acc: 0.3704\n",
      "Epoch  2, CIFAR-10 Batch 2:  Loss: 1.6301 , Training Acc: 0.4750, Validation Acc: 0.3910\n",
      "Epoch  2, CIFAR-10 Batch 3:  Loss: 1.6797 , Training Acc: 0.4000, Validation Acc: 0.3890\n",
      "Epoch  2, CIFAR-10 Batch 4:  Loss: 1.7068 , Training Acc: 0.4250, Validation Acc: 0.4128\n",
      "Epoch  2, CIFAR-10 Batch 5:  Loss: 1.6345 , Training Acc: 0.4750, Validation Acc: 0.4054\n",
      "Epoch  3, CIFAR-10 Batch 1:  Loss: 1.7193 , Training Acc: 0.4000, Validation Acc: 0.4278\n",
      "Epoch  3, CIFAR-10 Batch 2:  Loss: 1.5304 , Training Acc: 0.4500, Validation Acc: 0.4452\n",
      "Epoch  3, CIFAR-10 Batch 3:  Loss: 1.5859 , Training Acc: 0.4750, Validation Acc: 0.4154\n",
      "Epoch  3, CIFAR-10 Batch 4:  Loss: 1.5701 , Training Acc: 0.4500, Validation Acc: 0.4196\n",
      "Epoch  3, CIFAR-10 Batch 5:  Loss: 1.4737 , Training Acc: 0.5500, Validation Acc: 0.4598\n",
      "Epoch  4, CIFAR-10 Batch 1:  Loss: 1.7336 , Training Acc: 0.5250, Validation Acc: 0.4248\n",
      "Epoch  4, CIFAR-10 Batch 2:  Loss: 1.4264 , Training Acc: 0.5000, Validation Acc: 0.4482\n",
      "Epoch  4, CIFAR-10 Batch 3:  Loss: 1.4143 , Training Acc: 0.5250, Validation Acc: 0.4234\n",
      "Epoch  4, CIFAR-10 Batch 4:  Loss: 1.3857 , Training Acc: 0.4250, Validation Acc: 0.4566\n",
      "Epoch  4, CIFAR-10 Batch 5:  Loss: 1.4371 , Training Acc: 0.5000, Validation Acc: 0.4582\n",
      "Epoch  5, CIFAR-10 Batch 1:  Loss: 1.6354 , Training Acc: 0.4500, Validation Acc: 0.4382\n",
      "Epoch  5, CIFAR-10 Batch 2:  Loss: 1.2872 , Training Acc: 0.6250, Validation Acc: 0.4600\n",
      "Epoch  5, CIFAR-10 Batch 3:  Loss: 1.3444 , Training Acc: 0.4500, Validation Acc: 0.4660\n",
      "Epoch  5, CIFAR-10 Batch 4:  Loss: 1.3626 , Training Acc: 0.4250, Validation Acc: 0.4920\n",
      "Epoch  5, CIFAR-10 Batch 5:  Loss: 1.4179 , Training Acc: 0.5750, Validation Acc: 0.4796\n",
      "Epoch  6, CIFAR-10 Batch 1:  Loss: 1.4280 , Training Acc: 0.5750, Validation Acc: 0.4906\n",
      "Epoch  6, CIFAR-10 Batch 2:  Loss: 1.2235 , Training Acc: 0.6750, Validation Acc: 0.4836\n",
      "Epoch  6, CIFAR-10 Batch 3:  Loss: 1.3291 , Training Acc: 0.6500, Validation Acc: 0.4898\n",
      "Epoch  6, CIFAR-10 Batch 4:  Loss: 1.2300 , Training Acc: 0.6250, Validation Acc: 0.4956\n",
      "Epoch  6, CIFAR-10 Batch 5:  Loss: 1.2637 , Training Acc: 0.6250, Validation Acc: 0.5112\n",
      "Epoch  7, CIFAR-10 Batch 1:  Loss: 1.3259 , Training Acc: 0.6000, Validation Acc: 0.5166\n",
      "Epoch  7, CIFAR-10 Batch 2:  Loss: 1.1282 , Training Acc: 0.6250, Validation Acc: 0.5100\n",
      "Epoch  7, CIFAR-10 Batch 3:  Loss: 1.1206 , Training Acc: 0.7000, Validation Acc: 0.5074\n",
      "Epoch  7, CIFAR-10 Batch 4:  Loss: 1.1050 , Training Acc: 0.6000, Validation Acc: 0.5204\n",
      "Epoch  7, CIFAR-10 Batch 5:  Loss: 1.0322 , Training Acc: 0.7250, Validation Acc: 0.5310\n",
      "Epoch  8, CIFAR-10 Batch 1:  Loss: 1.2303 , Training Acc: 0.6500, Validation Acc: 0.5160\n",
      "Epoch  8, CIFAR-10 Batch 2:  Loss: 0.8993 , Training Acc: 0.7500, Validation Acc: 0.5116\n",
      "Epoch  8, CIFAR-10 Batch 3:  Loss: 0.9749 , Training Acc: 0.6250, Validation Acc: 0.5316\n",
      "Epoch  8, CIFAR-10 Batch 4:  Loss: 0.9777 , Training Acc: 0.7250, Validation Acc: 0.5352\n",
      "Epoch  8, CIFAR-10 Batch 5:  Loss: 0.9711 , Training Acc: 0.7500, Validation Acc: 0.5276\n",
      "Epoch  9, CIFAR-10 Batch 1:  Loss: 1.1266 , Training Acc: 0.6750, Validation Acc: 0.5374\n",
      "Epoch  9, CIFAR-10 Batch 2:  Loss: 0.8612 , Training Acc: 0.7500, Validation Acc: 0.5396\n",
      "Epoch  9, CIFAR-10 Batch 3:  Loss: 0.8085 , Training Acc: 0.7750, Validation Acc: 0.5188\n",
      "Epoch  9, CIFAR-10 Batch 4:  Loss: 0.9063 , Training Acc: 0.7000, Validation Acc: 0.5448\n",
      "Epoch  9, CIFAR-10 Batch 5:  Loss: 0.8557 , Training Acc: 0.7250, Validation Acc: 0.5526\n",
      "Epoch 10, CIFAR-10 Batch 1:  Loss: 0.9601 , Training Acc: 0.6750, Validation Acc: 0.5544\n",
      "Epoch 10, CIFAR-10 Batch 2:  Loss: 0.8518 , Training Acc: 0.7000, Validation Acc: 0.5600\n",
      "Epoch 10, CIFAR-10 Batch 3:  Loss: 0.7516 , Training Acc: 0.8000, Validation Acc: 0.5434\n",
      "Epoch 10, CIFAR-10 Batch 4:  Loss: 0.7491 , Training Acc: 0.7750, Validation Acc: 0.5612\n",
      "Epoch 10, CIFAR-10 Batch 5:  Loss: 0.6992 , Training Acc: 0.8250, Validation Acc: 0.5558\n",
      "Epoch 11, CIFAR-10 Batch 1:  Loss: 0.8648 , Training Acc: 0.7000, Validation Acc: 0.5474\n",
      "Epoch 11, CIFAR-10 Batch 2:  Loss: 0.5658 , Training Acc: 0.8000, Validation Acc: 0.5562\n",
      "Epoch 11, CIFAR-10 Batch 3:  Loss: 0.4591 , Training Acc: 0.8750, Validation Acc: 0.5524\n",
      "Epoch 11, CIFAR-10 Batch 4:  Loss: 0.7407 , Training Acc: 0.7750, Validation Acc: 0.5496\n",
      "Epoch 11, CIFAR-10 Batch 5:  Loss: 0.6580 , Training Acc: 0.8000, Validation Acc: 0.5606\n",
      "Epoch 12, CIFAR-10 Batch 1:  Loss: 0.8600 , Training Acc: 0.7750, Validation Acc: 0.5642\n",
      "Epoch 12, CIFAR-10 Batch 2:  Loss: 0.4465 , Training Acc: 0.8500, Validation Acc: 0.5580\n",
      "Epoch 12, CIFAR-10 Batch 3:  Loss: 0.5012 , Training Acc: 0.8500, Validation Acc: 0.5672\n",
      "Epoch 12, CIFAR-10 Batch 4:  Loss: 0.5756 , Training Acc: 0.8250, Validation Acc: 0.5672\n",
      "Epoch 12, CIFAR-10 Batch 5:  Loss: 0.6531 , Training Acc: 0.8000, Validation Acc: 0.5570\n",
      "Epoch 13, CIFAR-10 Batch 1:  Loss: 0.6654 , Training Acc: 0.7750, Validation Acc: 0.5610\n",
      "Epoch 13, CIFAR-10 Batch 2:  Loss: 0.4206 , Training Acc: 0.8750, Validation Acc: 0.5580\n",
      "Epoch 13, CIFAR-10 Batch 3:  Loss: 0.3332 , Training Acc: 0.9250, Validation Acc: 0.5718\n",
      "Epoch 13, CIFAR-10 Batch 4:  Loss: 0.5397 , Training Acc: 0.8250, Validation Acc: 0.5626\n",
      "Epoch 13, CIFAR-10 Batch 5:  Loss: 0.5890 , Training Acc: 0.8500, Validation Acc: 0.5558\n",
      "Epoch 14, CIFAR-10 Batch 1:  Loss: 0.5819 , Training Acc: 0.8500, Validation Acc: 0.5698\n",
      "Epoch 14, CIFAR-10 Batch 2:  Loss: 0.3709 , Training Acc: 0.8500, Validation Acc: 0.5678\n",
      "Epoch 14, CIFAR-10 Batch 3:  Loss: 0.3313 , Training Acc: 0.8750, Validation Acc: 0.5846\n",
      "Epoch 14, CIFAR-10 Batch 4:  Loss: 0.4986 , Training Acc: 0.8250, Validation Acc: 0.5706\n",
      "Epoch 14, CIFAR-10 Batch 5:  Loss: 0.4716 , Training Acc: 0.9000, Validation Acc: 0.5704\n",
      "Epoch 15, CIFAR-10 Batch 1:  Loss: 0.6192 , Training Acc: 0.7750, Validation Acc: 0.5666\n",
      "Epoch 15, CIFAR-10 Batch 2:  Loss: 0.4019 , Training Acc: 0.8500, Validation Acc: 0.5764\n",
      "Epoch 15, CIFAR-10 Batch 3:  Loss: 0.3128 , Training Acc: 0.9250, Validation Acc: 0.5598\n",
      "Epoch 15, CIFAR-10 Batch 4:  Loss: 0.4828 , Training Acc: 0.8750, Validation Acc: 0.5642\n",
      "Epoch 15, CIFAR-10 Batch 5:  Loss: 0.4907 , Training Acc: 0.8500, Validation Acc: 0.5684\n",
      "Epoch 16, CIFAR-10 Batch 1:  Loss: 0.5188 , Training Acc: 0.8250, Validation Acc: 0.5696\n",
      "Epoch 16, CIFAR-10 Batch 2:  Loss: 0.2706 , Training Acc: 0.9500, Validation Acc: 0.5660\n",
      "Epoch 16, CIFAR-10 Batch 3:  Loss: 0.3727 , Training Acc: 0.8750, Validation Acc: 0.5766\n",
      "Epoch 16, CIFAR-10 Batch 4:  Loss: 0.3527 , Training Acc: 0.9500, Validation Acc: 0.5704\n",
      "Epoch 16, CIFAR-10 Batch 5:  Loss: 0.3647 , Training Acc: 0.9000, Validation Acc: 0.5628\n",
      "Epoch 17, CIFAR-10 Batch 1:  Loss: 0.5241 , Training Acc: 0.8250, Validation Acc: 0.5770\n",
      "Epoch 17, CIFAR-10 Batch 2:  Loss: 0.3168 , Training Acc: 0.9250, Validation Acc: 0.5584\n",
      "Epoch 17, CIFAR-10 Batch 3:  Loss: 0.3034 , Training Acc: 0.9250, Validation Acc: 0.5846\n",
      "Epoch 17, CIFAR-10 Batch 4:  Loss: 0.3426 , Training Acc: 0.8750, Validation Acc: 0.5746\n",
      "Epoch 17, CIFAR-10 Batch 5:  Loss: 0.2956 , Training Acc: 0.9500, Validation Acc: 0.5728\n",
      "Epoch 18, CIFAR-10 Batch 1:  Loss: 0.4820 , Training Acc: 0.8250, Validation Acc: 0.5632\n",
      "Epoch 18, CIFAR-10 Batch 2:  Loss: 0.2866 , Training Acc: 0.9250, Validation Acc: 0.5712\n",
      "Epoch 18, CIFAR-10 Batch 3:  Loss: 0.2619 , Training Acc: 0.9500, Validation Acc: 0.5696\n",
      "Epoch 18, CIFAR-10 Batch 4:  Loss: 0.3170 , Training Acc: 0.9250, Validation Acc: 0.5702\n",
      "Epoch 18, CIFAR-10 Batch 5:  Loss: 0.3450 , Training Acc: 0.9500, Validation Acc: 0.5678\n",
      "Epoch 19, CIFAR-10 Batch 1:  Loss: 0.5025 , Training Acc: 0.8250, Validation Acc: 0.5598\n",
      "Epoch 19, CIFAR-10 Batch 2:  Loss: 0.2361 , Training Acc: 0.9500, Validation Acc: 0.5726\n"
     ]
    },
    {
     "name": "stdout",
     "output_type": "stream",
     "text": [
      "Epoch 19, CIFAR-10 Batch 3:  Loss: 0.2450 , Training Acc: 0.9250, Validation Acc: 0.5848\n",
      "Epoch 19, CIFAR-10 Batch 4:  Loss: 0.3085 , Training Acc: 0.9250, Validation Acc: 0.5762\n",
      "Epoch 19, CIFAR-10 Batch 5:  Loss: 0.3696 , Training Acc: 0.8250, Validation Acc: 0.5824\n",
      "Epoch 20, CIFAR-10 Batch 1:  Loss: 0.5162 , Training Acc: 0.8000, Validation Acc: 0.5554\n",
      "Epoch 20, CIFAR-10 Batch 2:  Loss: 0.2434 , Training Acc: 0.9750, Validation Acc: 0.5700\n",
      "Epoch 20, CIFAR-10 Batch 3:  Loss: 0.1756 , Training Acc: 0.9500, Validation Acc: 0.5840\n",
      "Epoch 20, CIFAR-10 Batch 4:  Loss: 0.2384 , Training Acc: 0.9750, Validation Acc: 0.5886\n",
      "Epoch 20, CIFAR-10 Batch 5:  Loss: 0.3774 , Training Acc: 0.8750, Validation Acc: 0.5754\n",
      "Epoch 21, CIFAR-10 Batch 1:  Loss: 0.4786 , Training Acc: 0.8250, Validation Acc: 0.5632\n",
      "Epoch 21, CIFAR-10 Batch 2:  Loss: 0.2386 , Training Acc: 0.9500, Validation Acc: 0.5738\n",
      "Epoch 21, CIFAR-10 Batch 3:  Loss: 0.2347 , Training Acc: 0.9000, Validation Acc: 0.5760\n",
      "Epoch 21, CIFAR-10 Batch 4:  Loss: 0.3158 , Training Acc: 0.9250, Validation Acc: 0.5802\n",
      "Epoch 21, CIFAR-10 Batch 5:  Loss: 0.3263 , Training Acc: 0.9250, Validation Acc: 0.5648\n",
      "Epoch 22, CIFAR-10 Batch 1:  Loss: 0.4473 , Training Acc: 0.8500, Validation Acc: 0.5806\n",
      "Epoch 22, CIFAR-10 Batch 2:  Loss: 0.2174 , Training Acc: 0.9750, Validation Acc: 0.5786\n",
      "Epoch 22, CIFAR-10 Batch 3:  Loss: 0.2526 , Training Acc: 0.9250, Validation Acc: 0.5764\n",
      "Epoch 22, CIFAR-10 Batch 4:  Loss: 0.2165 , Training Acc: 0.9500, Validation Acc: 0.5762\n",
      "Epoch 22, CIFAR-10 Batch 5:  Loss: 0.2362 , Training Acc: 0.9500, Validation Acc: 0.5658\n",
      "Epoch 23, CIFAR-10 Batch 1:  Loss: 0.3682 , Training Acc: 0.8750, Validation Acc: 0.5794\n",
      "Epoch 23, CIFAR-10 Batch 2:  Loss: 0.1990 , Training Acc: 0.9500, Validation Acc: 0.5708\n",
      "Epoch 23, CIFAR-10 Batch 3:  Loss: 0.2447 , Training Acc: 0.9250, Validation Acc: 0.5816\n",
      "Epoch 23, CIFAR-10 Batch 4:  Loss: 0.2133 , Training Acc: 0.9500, Validation Acc: 0.5802\n",
      "Epoch 23, CIFAR-10 Batch 5:  Loss: 0.2348 , Training Acc: 0.9500, Validation Acc: 0.5704\n",
      "Epoch 24, CIFAR-10 Batch 1:  Loss: 0.3612 , Training Acc: 0.9000, Validation Acc: 0.5732\n",
      "Epoch 24, CIFAR-10 Batch 2:  Loss: 0.1871 , Training Acc: 0.9750, Validation Acc: 0.5844\n",
      "Epoch 24, CIFAR-10 Batch 3:  Loss: 0.2527 , Training Acc: 0.9250, Validation Acc: 0.5732\n",
      "Epoch 24, CIFAR-10 Batch 4:  Loss: 0.2252 , Training Acc: 0.9250, Validation Acc: 0.5966\n",
      "Epoch 24, CIFAR-10 Batch 5:  Loss: 0.2378 , Training Acc: 0.9500, Validation Acc: 0.5708\n",
      "Epoch 25, CIFAR-10 Batch 1:  Loss: 0.3328 , Training Acc: 0.8750, Validation Acc: 0.5778\n",
      "Epoch 25, CIFAR-10 Batch 2:  Loss: 0.2002 , Training Acc: 0.9500, Validation Acc: 0.5744\n",
      "Epoch 25, CIFAR-10 Batch 3:  Loss: 0.1527 , Training Acc: 0.9750, Validation Acc: 0.5778\n",
      "Epoch 25, CIFAR-10 Batch 4:  Loss: 0.1166 , Training Acc: 0.9750, Validation Acc: 0.5958\n",
      "Epoch 25, CIFAR-10 Batch 5:  Loss: 0.2189 , Training Acc: 0.9500, Validation Acc: 0.5726\n",
      "Epoch 26, CIFAR-10 Batch 1:  Loss: 0.4036 , Training Acc: 0.8750, Validation Acc: 0.5818\n",
      "Epoch 26, CIFAR-10 Batch 2:  Loss: 0.2103 , Training Acc: 0.9750, Validation Acc: 0.5822\n",
      "Epoch 26, CIFAR-10 Batch 3:  Loss: 0.1639 , Training Acc: 0.9500, Validation Acc: 0.5770\n",
      "Epoch 26, CIFAR-10 Batch 4:  Loss: 0.1887 , Training Acc: 0.9500, Validation Acc: 0.5754\n",
      "Epoch 26, CIFAR-10 Batch 5:  Loss: 0.1839 , Training Acc: 0.9750, Validation Acc: 0.5804\n",
      "Epoch 27, CIFAR-10 Batch 1:  Loss: 0.3228 , Training Acc: 0.9000, Validation Acc: 0.5854\n",
      "Epoch 27, CIFAR-10 Batch 2:  Loss: 0.1287 , Training Acc: 0.9500, Validation Acc: 0.5688\n",
      "Epoch 27, CIFAR-10 Batch 3:  Loss: 0.1547 , Training Acc: 0.9500, Validation Acc: 0.5796\n",
      "Epoch 27, CIFAR-10 Batch 4:  Loss: 0.1383 , Training Acc: 0.9750, Validation Acc: 0.5906\n",
      "Epoch 27, CIFAR-10 Batch 5:  Loss: 0.2212 , Training Acc: 0.9750, Validation Acc: 0.5728\n",
      "Epoch 28, CIFAR-10 Batch 1:  Loss: 0.2985 , Training Acc: 0.9000, Validation Acc: 0.5778\n",
      "Epoch 28, CIFAR-10 Batch 2:  Loss: 0.1890 , Training Acc: 0.9750, Validation Acc: 0.5940\n",
      "Epoch 28, CIFAR-10 Batch 3:  Loss: 0.1533 , Training Acc: 0.9500, Validation Acc: 0.5728\n",
      "Epoch 28, CIFAR-10 Batch 4:  Loss: 0.1580 , Training Acc: 0.9500, Validation Acc: 0.5830\n",
      "Epoch 28, CIFAR-10 Batch 5:  Loss: 0.2343 , Training Acc: 0.9250, Validation Acc: 0.5902\n",
      "Epoch 29, CIFAR-10 Batch 1:  Loss: 0.2517 , Training Acc: 0.9000, Validation Acc: 0.5688\n",
      "Epoch 29, CIFAR-10 Batch 2:  Loss: 0.1381 , Training Acc: 0.9750, Validation Acc: 0.5686\n",
      "Epoch 29, CIFAR-10 Batch 3:  Loss: 0.1141 , Training Acc: 0.9500, Validation Acc: 0.5790\n",
      "Epoch 29, CIFAR-10 Batch 4:  Loss: 0.1769 , Training Acc: 0.9750, Validation Acc: 0.5984\n",
      "Epoch 29, CIFAR-10 Batch 5:  Loss: 0.1890 , Training Acc: 0.9750, Validation Acc: 0.5862\n",
      "Epoch 30, CIFAR-10 Batch 1:  Loss: 0.2607 , Training Acc: 0.9000, Validation Acc: 0.5924\n",
      "Epoch 30, CIFAR-10 Batch 2:  Loss: 0.1819 , Training Acc: 0.9750, Validation Acc: 0.5836\n",
      "Epoch 30, CIFAR-10 Batch 3:  Loss: 0.1332 , Training Acc: 0.9750, Validation Acc: 0.5828\n",
      "Epoch 30, CIFAR-10 Batch 4:  Loss: 0.1857 , Training Acc: 0.9750, Validation Acc: 0.5816\n",
      "Epoch 30, CIFAR-10 Batch 5:  Loss: 0.1584 , Training Acc: 0.9750, Validation Acc: 0.5730\n",
      "Epoch 31, CIFAR-10 Batch 1:  Loss: 0.2306 , Training Acc: 0.9500, Validation Acc: 0.5820\n",
      "Epoch 31, CIFAR-10 Batch 2:  Loss: 0.1233 , Training Acc: 0.9750, Validation Acc: 0.5662\n",
      "Epoch 31, CIFAR-10 Batch 3:  Loss: 0.1142 , Training Acc: 0.9750, Validation Acc: 0.5682\n",
      "Epoch 31, CIFAR-10 Batch 4:  Loss: 0.1414 , Training Acc: 0.9750, Validation Acc: 0.5812\n",
      "Epoch 31, CIFAR-10 Batch 5:  Loss: 0.1471 , Training Acc: 0.9750, Validation Acc: 0.5772\n",
      "Epoch 32, CIFAR-10 Batch 1:  Loss: 0.1847 , Training Acc: 0.9500, Validation Acc: 0.5674\n",
      "Epoch 32, CIFAR-10 Batch 2:  Loss: 0.1603 , Training Acc: 0.9500, Validation Acc: 0.5762\n",
      "Epoch 32, CIFAR-10 Batch 3:  Loss: 0.1693 , Training Acc: 0.9500, Validation Acc: 0.5882\n",
      "Epoch 32, CIFAR-10 Batch 4:  Loss: 0.1185 , Training Acc: 0.9750, Validation Acc: 0.5912\n",
      "Epoch 32, CIFAR-10 Batch 5:  Loss: 0.1625 , Training Acc: 0.9500, Validation Acc: 0.5728\n",
      "Epoch 33, CIFAR-10 Batch 1:  Loss: 0.2904 , Training Acc: 0.9250, Validation Acc: 0.5550\n",
      "Epoch 33, CIFAR-10 Batch 2:  Loss: 0.2712 , Training Acc: 0.9500, Validation Acc: 0.5550\n",
      "Epoch 33, CIFAR-10 Batch 3:  Loss: 0.2147 , Training Acc: 0.9250, Validation Acc: 0.5672\n",
      "Epoch 33, CIFAR-10 Batch 4:  Loss: 0.2887 , Training Acc: 0.9750, Validation Acc: 0.5880\n",
      "Epoch 33, CIFAR-10 Batch 5:  Loss: 0.1730 , Training Acc: 0.9750, Validation Acc: 0.5844\n",
      "Epoch 34, CIFAR-10 Batch 1:  Loss: 0.1749 , Training Acc: 0.9500, Validation Acc: 0.5616\n",
      "Epoch 34, CIFAR-10 Batch 2:  Loss: 0.1332 , Training Acc: 1.0000, Validation Acc: 0.5768\n",
      "Epoch 34, CIFAR-10 Batch 3:  Loss: 0.1140 , Training Acc: 0.9500, Validation Acc: 0.5796\n",
      "Epoch 34, CIFAR-10 Batch 4:  Loss: 0.1290 , Training Acc: 0.9750, Validation Acc: 0.5780\n",
      "Epoch 34, CIFAR-10 Batch 5:  Loss: 0.1123 , Training Acc: 1.0000, Validation Acc: 0.5820\n",
      "Epoch 35, CIFAR-10 Batch 1:  Loss: 0.2125 , Training Acc: 0.9250, Validation Acc: 0.5832\n",
      "Epoch 35, CIFAR-10 Batch 2:  Loss: 0.1092 , Training Acc: 1.0000, Validation Acc: 0.5828\n",
      "Epoch 35, CIFAR-10 Batch 3:  Loss: 0.2511 , Training Acc: 0.9000, Validation Acc: 0.5872\n",
      "Epoch 35, CIFAR-10 Batch 4:  Loss: 0.1987 , Training Acc: 0.9500, Validation Acc: 0.5970\n",
      "Epoch 35, CIFAR-10 Batch 5:  Loss: 0.1204 , Training Acc: 1.0000, Validation Acc: 0.5840\n",
      "Epoch 36, CIFAR-10 Batch 1:  Loss: 0.3353 , Training Acc: 0.9000, Validation Acc: 0.5786\n",
      "Epoch 36, CIFAR-10 Batch 2:  Loss: 0.0947 , Training Acc: 1.0000, Validation Acc: 0.5882\n",
      "Epoch 36, CIFAR-10 Batch 3:  Loss: 0.1790 , Training Acc: 0.9250, Validation Acc: 0.5824\n",
      "Epoch 36, CIFAR-10 Batch 4:  Loss: 0.1794 , Training Acc: 0.9750, Validation Acc: 0.5938\n",
      "Epoch 36, CIFAR-10 Batch 5:  Loss: 0.2437 , Training Acc: 0.9500, Validation Acc: 0.5806\n",
      "Epoch 37, CIFAR-10 Batch 1:  Loss: 0.1553 , Training Acc: 0.9500, Validation Acc: 0.5824\n",
      "Epoch 37, CIFAR-10 Batch 2:  Loss: 0.1068 , Training Acc: 0.9500, Validation Acc: 0.5870\n",
      "Epoch 37, CIFAR-10 Batch 3:  Loss: 0.1253 , Training Acc: 0.9750, Validation Acc: 0.5900\n",
      "Epoch 37, CIFAR-10 Batch 4:  Loss: 0.1747 , Training Acc: 0.9500, Validation Acc: 0.5932\n"
     ]
    },
    {
     "name": "stdout",
     "output_type": "stream",
     "text": [
      "Epoch 37, CIFAR-10 Batch 5:  Loss: 0.0799 , Training Acc: 1.0000, Validation Acc: 0.5860\n",
      "Epoch 38, CIFAR-10 Batch 1:  Loss: 0.1731 , Training Acc: 0.9250, Validation Acc: 0.5912\n",
      "Epoch 38, CIFAR-10 Batch 2:  Loss: 0.2108 , Training Acc: 0.9750, Validation Acc: 0.5774\n",
      "Epoch 38, CIFAR-10 Batch 3:  Loss: 0.1414 , Training Acc: 0.9500, Validation Acc: 0.5810\n",
      "Epoch 38, CIFAR-10 Batch 4:  Loss: 0.1054 , Training Acc: 0.9750, Validation Acc: 0.6014\n",
      "Epoch 38, CIFAR-10 Batch 5:  Loss: 0.0963 , Training Acc: 1.0000, Validation Acc: 0.5862\n",
      "Epoch 39, CIFAR-10 Batch 1:  Loss: 0.1304 , Training Acc: 0.9500, Validation Acc: 0.5896\n",
      "Epoch 39, CIFAR-10 Batch 2:  Loss: 0.1809 , Training Acc: 0.9750, Validation Acc: 0.5880\n",
      "Epoch 39, CIFAR-10 Batch 3:  Loss: 0.1147 , Training Acc: 0.9500, Validation Acc: 0.5728\n",
      "Epoch 39, CIFAR-10 Batch 4:  Loss: 0.1119 , Training Acc: 0.9500, Validation Acc: 0.5860\n",
      "Epoch 39, CIFAR-10 Batch 5:  Loss: 0.0648 , Training Acc: 1.0000, Validation Acc: 0.5878\n",
      "Epoch 40, CIFAR-10 Batch 1:  Loss: 0.2010 , Training Acc: 0.9250, Validation Acc: 0.5926\n",
      "Epoch 40, CIFAR-10 Batch 2:  Loss: 0.1501 , Training Acc: 0.9750, Validation Acc: 0.5846\n",
      "Epoch 40, CIFAR-10 Batch 3:  Loss: 0.0976 , Training Acc: 0.9750, Validation Acc: 0.5870\n",
      "Epoch 40, CIFAR-10 Batch 4:  Loss: 0.1126 , Training Acc: 0.9750, Validation Acc: 0.5990\n",
      "Epoch 40, CIFAR-10 Batch 5:  Loss: 0.0656 , Training Acc: 1.0000, Validation Acc: 0.5830\n",
      "Epoch 41, CIFAR-10 Batch 1:  Loss: 0.1540 , Training Acc: 0.9500, Validation Acc: 0.5926\n",
      "Epoch 41, CIFAR-10 Batch 2:  Loss: 0.1243 , Training Acc: 0.9500, Validation Acc: 0.5918\n",
      "Epoch 41, CIFAR-10 Batch 3:  Loss: 0.1001 , Training Acc: 0.9750, Validation Acc: 0.5860\n",
      "Epoch 41, CIFAR-10 Batch 4:  Loss: 0.1046 , Training Acc: 0.9750, Validation Acc: 0.5910\n",
      "Epoch 41, CIFAR-10 Batch 5:  Loss: 0.0855 , Training Acc: 1.0000, Validation Acc: 0.5828\n",
      "Epoch 42, CIFAR-10 Batch 1:  Loss: 0.1419 , Training Acc: 0.9500, Validation Acc: 0.5826\n",
      "Epoch 42, CIFAR-10 Batch 2:  Loss: 0.1334 , Training Acc: 0.9750, Validation Acc: 0.5788\n",
      "Epoch 42, CIFAR-10 Batch 3:  Loss: 0.0958 , Training Acc: 0.9750, Validation Acc: 0.5862\n",
      "Epoch 42, CIFAR-10 Batch 4:  Loss: 0.1486 , Training Acc: 0.9500, Validation Acc: 0.5850\n",
      "Epoch 42, CIFAR-10 Batch 5:  Loss: 0.0921 , Training Acc: 1.0000, Validation Acc: 0.5908\n",
      "Epoch 43, CIFAR-10 Batch 1:  Loss: 0.1530 , Training Acc: 0.9500, Validation Acc: 0.5816\n",
      "Epoch 43, CIFAR-10 Batch 2:  Loss: 0.0922 , Training Acc: 0.9750, Validation Acc: 0.5912\n",
      "Epoch 43, CIFAR-10 Batch 3:  Loss: 0.1092 , Training Acc: 0.9750, Validation Acc: 0.5816\n",
      "Epoch 43, CIFAR-10 Batch 4:  Loss: 0.1204 , Training Acc: 0.9750, Validation Acc: 0.5834\n",
      "Epoch 43, CIFAR-10 Batch 5:  Loss: 0.0483 , Training Acc: 1.0000, Validation Acc: 0.5860\n",
      "Epoch 44, CIFAR-10 Batch 1:  Loss: 0.1773 , Training Acc: 0.9250, Validation Acc: 0.5948\n",
      "Epoch 44, CIFAR-10 Batch 2:  Loss: 0.0950 , Training Acc: 1.0000, Validation Acc: 0.5688\n",
      "Epoch 44, CIFAR-10 Batch 3:  Loss: 0.0930 , Training Acc: 0.9750, Validation Acc: 0.5766\n",
      "Epoch 44, CIFAR-10 Batch 4:  Loss: 0.1082 , Training Acc: 0.9500, Validation Acc: 0.5844\n",
      "Epoch 44, CIFAR-10 Batch 5:  Loss: 0.0548 , Training Acc: 0.9750, Validation Acc: 0.5956\n",
      "Epoch 45, CIFAR-10 Batch 1:  Loss: 0.2815 , Training Acc: 0.9000, Validation Acc: 0.5904\n",
      "Epoch 45, CIFAR-10 Batch 2:  Loss: 0.1075 , Training Acc: 0.9750, Validation Acc: 0.5792\n",
      "Epoch 45, CIFAR-10 Batch 3:  Loss: 0.1722 , Training Acc: 0.9250, Validation Acc: 0.5916\n",
      "Epoch 45, CIFAR-10 Batch 4:  Loss: 0.1302 , Training Acc: 0.9500, Validation Acc: 0.5878\n",
      "Epoch 45, CIFAR-10 Batch 5:  Loss: 0.0645 , Training Acc: 1.0000, Validation Acc: 0.5900\n",
      "Epoch 46, CIFAR-10 Batch 1:  Loss: 0.1992 , Training Acc: 0.9250, Validation Acc: 0.5842\n",
      "Epoch 46, CIFAR-10 Batch 2:  Loss: 0.0941 , Training Acc: 0.9750, Validation Acc: 0.5868\n",
      "Epoch 46, CIFAR-10 Batch 3:  Loss: 0.1615 , Training Acc: 0.9250, Validation Acc: 0.5760\n",
      "Epoch 46, CIFAR-10 Batch 4:  Loss: 0.1581 , Training Acc: 0.9500, Validation Acc: 0.5724\n",
      "Epoch 46, CIFAR-10 Batch 5:  Loss: 0.1115 , Training Acc: 0.9750, Validation Acc: 0.5764\n",
      "Epoch 47, CIFAR-10 Batch 1:  Loss: 0.2022 , Training Acc: 0.9500, Validation Acc: 0.5888\n",
      "Epoch 47, CIFAR-10 Batch 2:  Loss: 0.1326 , Training Acc: 0.9500, Validation Acc: 0.5912\n",
      "Epoch 47, CIFAR-10 Batch 3:  Loss: 0.1201 , Training Acc: 0.9750, Validation Acc: 0.5906\n",
      "Epoch 47, CIFAR-10 Batch 4:  Loss: 0.1457 , Training Acc: 0.9500, Validation Acc: 0.5862\n",
      "Epoch 47, CIFAR-10 Batch 5:  Loss: 0.0458 , Training Acc: 1.0000, Validation Acc: 0.5850\n",
      "Epoch 48, CIFAR-10 Batch 1:  Loss: 0.1942 , Training Acc: 0.9250, Validation Acc: 0.5898\n",
      "Epoch 48, CIFAR-10 Batch 2:  Loss: 0.1545 , Training Acc: 0.9750, Validation Acc: 0.5838\n",
      "Epoch 48, CIFAR-10 Batch 3:  Loss: 0.0896 , Training Acc: 0.9750, Validation Acc: 0.5872\n",
      "Epoch 48, CIFAR-10 Batch 4:  Loss: 0.1267 , Training Acc: 0.9750, Validation Acc: 0.5918\n",
      "Epoch 48, CIFAR-10 Batch 5:  Loss: 0.0606 , Training Acc: 0.9750, Validation Acc: 0.5962\n",
      "Epoch 49, CIFAR-10 Batch 1:  Loss: 0.2010 , Training Acc: 0.9250, Validation Acc: 0.5890\n",
      "Epoch 49, CIFAR-10 Batch 2:  Loss: 0.0959 , Training Acc: 1.0000, Validation Acc: 0.5886\n",
      "Epoch 49, CIFAR-10 Batch 3:  Loss: 0.1319 , Training Acc: 0.9250, Validation Acc: 0.5822\n",
      "Epoch 49, CIFAR-10 Batch 4:  Loss: 0.1000 , Training Acc: 0.9750, Validation Acc: 0.5916\n",
      "Epoch 49, CIFAR-10 Batch 5:  Loss: 0.0773 , Training Acc: 1.0000, Validation Acc: 0.5982\n",
      "Epoch 50, CIFAR-10 Batch 1:  Loss: 0.1952 , Training Acc: 0.9250, Validation Acc: 0.5812\n",
      "Epoch 50, CIFAR-10 Batch 2:  Loss: 0.1620 , Training Acc: 0.9500, Validation Acc: 0.5976\n",
      "Epoch 50, CIFAR-10 Batch 3:  Loss: 0.1182 , Training Acc: 0.9750, Validation Acc: 0.5844\n",
      "Epoch 50, CIFAR-10 Batch 4:  Loss: 0.1384 , Training Acc: 0.9500, Validation Acc: 0.5854\n",
      "Epoch 50, CIFAR-10 Batch 5:  Loss: 0.0659 , Training Acc: 1.0000, Validation Acc: 0.5858\n"
     ]
    }
   ],
   "source": [
    "\"\"\"\n",
    "DON'T MODIFY ANYTHING IN THIS CELL\n",
    "\"\"\"\n",
    "save_model_path = './image_classification'\n",
    "\n",
    "print('Training...')\n",
    "with tf.Session() as sess:\n",
    "    # Initializing the variables\n",
    "    sess.run(tf.global_variables_initializer())\n",
    "    \n",
    "    # Training cycle\n",
    "    for epoch in range(epochs):\n",
    "        # Loop over all batches\n",
    "        n_batches = 5\n",
    "        for batch_i in range(1, n_batches + 1):\n",
    "            for batch_features, batch_labels in helper.load_preprocess_training_batch(batch_i, batch_size):\n",
    "                train_neural_network(sess, optimizer, keep_probability, batch_features, batch_labels)\n",
    "            print('Epoch {:>2}, CIFAR-10 Batch {}:  '.format(epoch + 1, batch_i), end='')\n",
    "            print_stats(sess, batch_features, batch_labels, cost, accuracy)\n",
    "            \n",
    "    # Save Model\n",
    "    saver = tf.train.Saver()\n",
    "    save_path = saver.save(sess, save_model_path)"
   ]
  },
  {
   "cell_type": "markdown",
   "metadata": {},
   "source": [
    "# Checkpoint\n",
    "The model has been saved to disk.\n",
    "## Test Model\n",
    "Test your model against the test dataset.  This will be your final accuracy. You should have an accuracy greater than 50%. If you don't, keep tweaking the model architecture and parameters."
   ]
  },
  {
   "cell_type": "code",
   "execution_count": 33,
   "metadata": {},
   "outputs": [
    {
     "name": "stdout",
     "output_type": "stream",
     "text": [
      "INFO:tensorflow:Restoring parameters from ./image_classification\n",
      "Testing Accuracy: 0.5846934713375797\n",
      "\n"
     ]
    },
    {
     "data": {
      "image/png": "[encoded data removed]",
      "text/plain": [
       "<matplotlib.figure.Figure at 0x7f0fb6fc0400>"
      ]
     },
     "metadata": {
      "image/png": {
       "height": 319,
       "width": 355
      }
     },
     "output_type": "display_data"
    }
   ],
   "source": [
    "\"\"\"\n",
    "DON'T MODIFY ANYTHING IN THIS CELL\n",
    "\"\"\"\n",
    "%matplotlib inline\n",
    "%config InlineBackend.figure_format = 'retina'\n",
    "\n",
    "import tensorflow as tf\n",
    "import pickle\n",
    "import helper\n",
    "import random\n",
    "\n",
    "# Set batch size if not already set\n",
    "try:\n",
    "    if batch_size:\n",
    "        pass\n",
    "except NameError:\n",
    "    batch_size = 64\n",
    "\n",
    "save_model_path = './image_classification'\n",
    "n_samples = 4\n",
    "top_n_predictions = 3\n",
    "\n",
    "def test_model():\n",
    "    \"\"\"\n",
    "    Test the saved model against the test dataset\n",
    "    \"\"\"\n",
    "\n",
    "    test_features, test_labels = pickle.load(open('preprocess_test.p', mode='rb'))\n",
    "    loaded_graph = tf.Graph()\n",
    "\n",
    "    with tf.Session(graph=loaded_graph) as sess:\n",
    "        # Load model\n",
    "        loader = tf.train.import_meta_graph(save_model_path + '.meta')\n",
    "        loader.restore(sess, save_model_path)\n",
    "\n",
    "        # Get Tensors from loaded model\n",
    "        loaded_x = loaded_graph.get_tensor_by_name('x:0')\n",
    "        loaded_y = loaded_graph.get_tensor_by_name('y:0')\n",
    "        loaded_keep_prob = loaded_graph.get_tensor_by_name('keep_prob:0')\n",
    "        loaded_logits = loaded_graph.get_tensor_by_name('logits:0')\n",
    "        loaded_acc = loaded_graph.get_tensor_by_name('accuracy:0')\n",
    "        \n",
    "        # Get accuracy in batches for memory limitations\n",
    "        test_batch_acc_total = 0\n",
    "        test_batch_count = 0\n",
    "        \n",
    "        for test_feature_batch, test_label_batch in helper.batch_features_labels(test_features, test_labels, batch_size):\n",
    "            test_batch_acc_total += sess.run(\n",
    "                loaded_acc,\n",
    "                feed_dict={loaded_x: test_feature_batch, loaded_y: test_label_batch, loaded_keep_prob: 1.0})\n",
    "            test_batch_count += 1\n",
    "\n",
    "        print('Testing Accuracy: {}\\n'.format(test_batch_acc_total/test_batch_count))\n",
    "\n",
    "        # Print Random Samples\n",
    "        random_test_features, random_test_labels = tuple(zip(*random.sample(list(zip(test_features, test_labels)), n_samples)))\n",
    "        random_test_predictions = sess.run(\n",
    "            tf.nn.top_k(tf.nn.softmax(loaded_logits), top_n_predictions),\n",
    "            feed_dict={loaded_x: random_test_features, loaded_y: random_test_labels, loaded_keep_prob: 1.0})\n",
    "        helper.display_image_predictions(random_test_features, random_test_labels, random_test_predictions)\n",
    "\n",
    "\n",
    "test_model()"
   ]
  },
  {
   "cell_type": "markdown",
   "metadata": {},
   "source": [
    "## Why 50-80% Accuracy?\n",
    "You might be wondering why you can't get an accuracy any higher. First things first, 50% isn't bad for a simple CNN.  Pure guessing would get you 10% accuracy. However, you might notice people are getting scores [well above 80%](http://rodrigob.github.io/are_we_there_yet/build/classification_datasets_results.html#43494641522d3130).  That's because we haven't taught you all there is to know about neural networks. We still need to cover a few more techniques.\n",
    "## Submitting This Project\n",
    "When submitting this project, make sure to run all the cells before saving the notebook.  Save the notebook file as \"dlnd_image_classification.ipynb\" and save it as a HTML file under \"File\" -> \"Download as\".  Include the \"helper.py\" and \"problem_unittests.py\" files in your submission."
   ]
  }
 ],
 "metadata": {
  "kernelspec": {
   "display_name": "Python 3",
   "language": "python",
   "name": "python3"
  },
  "language_info": {
   "codemirror_mode": {
    "name": "ipython",
    "version": 3
   },
   "file_extension": ".py",
   "mimetype": "text/x-python",
   "name": "python",
   "nbconvert_exporter": "python",
   "pygments_lexer": "ipython3",
   "version": "3.5.3"
  }
 },
 "nbformat": 4,
 "nbformat_minor": 1
}
